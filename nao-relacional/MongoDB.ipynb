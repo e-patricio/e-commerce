{
  "nbformat": 4,
  "nbformat_minor": 0,
  "metadata": {
    "colab": {
      "provenance": []
    },
    "kernelspec": {
      "name": "python3",
      "display_name": "Python 3"
    },
    "language_info": {
      "name": "python"
    }
  },
  "cells": [
    {
      "cell_type": "markdown",
      "source": [
        "Instalando pymongo para efetuar a conexão.\n"
      ],
      "metadata": {
        "id": "v5tZRvZvL-Cr"
      }
    },
    {
      "cell_type": "code",
      "execution_count": null,
      "metadata": {
        "colab": {
          "base_uri": "https://localhost:8080/"
        },
        "id": "SwV9M-PW1cJa",
        "outputId": "a75762fa-8290-4a3a-bfbc-0e65ae9c3ce6"
      },
      "outputs": [
        {
          "output_type": "stream",
          "name": "stdout",
          "text": [
            "Collecting pymongo[srv,tls]\n",
            "  Downloading pymongo-4.7.3-cp310-cp310-manylinux_2_17_x86_64.manylinux2014_x86_64.whl (669 kB)\n",
            "\u001b[2K     \u001b[90m━━━━━━━━━━━━━━━━━━━━━━━━━━━━━━━━━━━━━━━━\u001b[0m \u001b[32m669.1/669.1 kB\u001b[0m \u001b[31m4.8 MB/s\u001b[0m eta \u001b[36m0:00:00\u001b[0m\n",
            "\u001b[?25hCollecting dnspython<3.0.0,>=1.16.0 (from pymongo[srv,tls])\n",
            "  Downloading dnspython-2.6.1-py3-none-any.whl (307 kB)\n",
            "\u001b[2K     \u001b[90m━━━━━━━━━━━━━━━━━━━━━━━━━━━━━━━━━━━━━━━━\u001b[0m \u001b[32m307.7/307.7 kB\u001b[0m \u001b[31m10.3 MB/s\u001b[0m eta \u001b[36m0:00:00\u001b[0m\n",
            "\u001b[?25hInstalling collected packages: dnspython, pymongo\n",
            "Successfully installed dnspython-2.6.1 pymongo-4.7.3\n"
          ]
        }
      ],
      "source": [
        "!pip install pymongo[srv,tls]"
      ]
    },
    {
      "cell_type": "markdown",
      "source": [
        "Importando as bibliotecas necessárias."
      ],
      "metadata": {
        "id": "zfhQa9juMFL-"
      }
    },
    {
      "cell_type": "code",
      "source": [
        "import pymongo\n",
        "import json\n",
        "import pprint\n",
        "from datetime import datetime"
      ],
      "metadata": {
        "id": "WNufrdbx1wil"
      },
      "execution_count": null,
      "outputs": []
    },
    {
      "cell_type": "markdown",
      "source": [
        "Configurando conexão."
      ],
      "metadata": {
        "id": "HqOwqSpvMISJ"
      }
    },
    {
      "cell_type": "code",
      "source": [
        "mongo_user = \"yasmincardozo\"\n",
        "mongo_pw = \"pucrs2024\"\n",
        "mongo_host = \"clusterbd2.osalpzb.mongodb.net\"\n",
        "mongo_app = \"ClusterBD2\""
      ],
      "metadata": {
        "id": "5J1k5qQT18MF"
      },
      "execution_count": null,
      "outputs": []
    },
    {
      "cell_type": "code",
      "source": [
        "mongo_user = \"EduardaPatricio\"\n",
        "mongo_pw = \"duds1622\"\n",
        "mongo_host = \"clusterbd2.v3hmqat.mongodb.net\"\n",
        "mongo_app = \"ClusterBD2\""
      ],
      "metadata": {
        "id": "Z5Ouxs5txuNA"
      },
      "execution_count": null,
      "outputs": []
    },
    {
      "cell_type": "markdown",
      "source": [
        "Formatando a conexão."
      ],
      "metadata": {
        "id": "JjX5DqnKMK06"
      }
    },
    {
      "cell_type": "markdown",
      "source": [
        "YASMIN:"
      ],
      "metadata": {
        "id": "eS-FoOuFxpgT"
      }
    },
    {
      "cell_type": "code",
      "source": [
        "conn = pymongo.MongoClient(\"mongodb+srv://\" + mongo_user + \":\" + mongo_pw + \"@\" + mongo_host + \"/?retryWrites=true&w=majority&appName=\" + mongo_app)\n"
      ],
      "metadata": {
        "id": "Iv5Y5qMt1-qU"
      },
      "execution_count": null,
      "outputs": []
    },
    {
      "cell_type": "markdown",
      "source": [
        "DUDA:"
      ],
      "metadata": {
        "id": "CjwzTQl1xoUn"
      }
    },
    {
      "cell_type": "code",
      "source": [
        "conn = pymongo.MongoClient(\"mongodb+srv://\" + mongo_user + \":\" + mongo_pw + \"@\" + mongo_host + \"/?retryWrites=true&w=majority&appName=\" + mongo_app)"
      ],
      "metadata": {
        "id": "654GzW76xnuT"
      },
      "execution_count": null,
      "outputs": []
    },
    {
      "cell_type": "markdown",
      "source": [
        "Conectando."
      ],
      "metadata": {
        "id": "eHUNaaB_MQFH"
      }
    },
    {
      "cell_type": "code",
      "source": [
        "conn.list_database_names()"
      ],
      "metadata": {
        "colab": {
          "base_uri": "https://localhost:8080/"
        },
        "id": "0RGf-kYV2b2b",
        "outputId": "5081a6f0-394c-4fb0-a4a2-51b0f6c219ad"
      },
      "execution_count": null,
      "outputs": [
        {
          "output_type": "execute_result",
          "data": {
            "text/plain": [
              "['sample_mflix', 'admin', 'local']"
            ]
          },
          "metadata": {},
          "execution_count": 5
        }
      ]
    },
    {
      "cell_type": "code",
      "source": [
        "print(conn)"
      ],
      "metadata": {
        "id": "-OKAReL86qOB",
        "outputId": "ae3b8332-cac9-48df-ced0-ea780c009499",
        "colab": {
          "base_uri": "https://localhost:8080/"
        }
      },
      "execution_count": null,
      "outputs": [
        {
          "output_type": "stream",
          "name": "stdout",
          "text": [
            "MongoClient(host=['ac-vc8fosh-shard-00-02.v3hmqat.mongodb.net:27017', 'ac-vc8fosh-shard-00-00.v3hmqat.mongodb.net:27017', 'ac-vc8fosh-shard-00-01.v3hmqat.mongodb.net:27017'], document_class=dict, tz_aware=False, connect=True, retrywrites=True, w='majority', appname='ClusterBD2', authsource='admin', replicaset='atlas-m24u8l-shard-0', tls=True)\n"
          ]
        }
      ]
    },
    {
      "cell_type": "markdown",
      "source": [
        "É necessário salvar a conexão em uma variável. obs.: Quando for testar **NÃO** esquecer de **COLOCAR** o nome do banco."
      ],
      "metadata": {
        "id": "HSctrJCRLQRC"
      }
    },
    {
      "cell_type": "code",
      "source": [
        "bd = conn[\"e-commerce\"]"
      ],
      "metadata": {
        "id": "7Lcc4_R5LLl_"
      },
      "execution_count": null,
      "outputs": []
    },
    {
      "cell_type": "markdown",
      "source": [
        "# ▶ Criando a coleção 'cliente' com validador de esquema.\n",
        "\n",
        "- Cliente tem sua própria collection pois não seria apropriado o embutir em nenhuma outra,, por conta do contexto.\n",
        "\n",
        "- Endereço foi embutido em cliente para facilitar buscas como \"todos os endereços de cliente X\". Como não é esperado que um cliente tenha dúzias de endereços diferentes a restrição de tamanho não se provou relevante."
      ],
      "metadata": {
        "id": "K1HzKNo8LjyM"
      }
    },
    {
      "cell_type": "code",
      "source": [
        "bd.create_collection(\"cliente\", validator= {\n",
        "    \"$jsonSchema\": {\n",
        "        \"bsonType\":\"object\",\n",
        "        \"title\": \"Validacao de esquema\",\n",
        "        \"required\": [\"nome\", \"cpf\", \"email\", \"endereco\"],\n",
        "        \"properties\": {\n",
        "            \"nome\": {\n",
        "                \"bsonType\": \"string\",\n",
        "                \"description\": \"Nome do cliente - Campo obrigatório do tipo string!\"\n",
        "            },\n",
        "            \"cpf\": {\n",
        "                \"bsonType\": \"string\",\n",
        "                \"description\": \"Cpf do cliente - Campo obrigatório do tipo string!\"\n",
        "            },\n",
        "            \"email\": {\n",
        "                \"bsonType\": \"string\",\n",
        "                \"description\": \"Email do cliente - Campo obrigatório do tipo string!\"\n",
        "            },\n",
        "            \"endereco\": {\n",
        "                \"bsonType\":\"array\",\n",
        "                \"required\": [\"_id\",\"cep\", \"numero\"],\n",
        "                \"properties\": {\n",
        "                    \"_id\":{\n",
        "                      \"bsonType\": \"int\",\n",
        "                      \"description\": \"\"\n",
        "                    },\n",
        "                    \"cep\": {\n",
        "                        \"bsonType\":\"string\",\n",
        "                        \"description\": \"CEP - Campo obrigatório do tipo string!\"\n",
        "                    },\n",
        "                    \"numero\": {\n",
        "                        \"bsonType\":\"int\",\n",
        "                        \"description\": \"Número do endereço - Campo obrigatório do tipo string!\"\n",
        "                    },\n",
        "                    \"complemento\": {\n",
        "                        \"bsonType\":\"string\",\n",
        "                        \"description\": \"Complemento do endereço - Campo opcional do tipo string!\"\n",
        "                    }\n",
        "                }\n",
        "            }\n",
        "        }\n",
        "    }\n",
        "})"
      ],
      "metadata": {
        "id": "Sdkh3A7p1yXE",
        "colab": {
          "base_uri": "https://localhost:8080/"
        },
        "outputId": "797b0a8c-dc30-4dbe-9d51-e2fe95011341"
      },
      "execution_count": null,
      "outputs": [
        {
          "output_type": "execute_result",
          "data": {
            "text/plain": [
              "Collection(Database(MongoClient(host=['ac-vc8fosh-shard-00-02.v3hmqat.mongodb.net:27017', 'ac-vc8fosh-shard-00-00.v3hmqat.mongodb.net:27017', 'ac-vc8fosh-shard-00-01.v3hmqat.mongodb.net:27017'], document_class=dict, tz_aware=False, connect=True, retrywrites=True, w='majority', appname='ClusterBD2', authsource='admin', replicaset='atlas-m24u8l-shard-0', tls=True), 'e-commerce'), 'cliente')"
            ]
          },
          "metadata": {},
          "execution_count": 8
        }
      ]
    },
    {
      "cell_type": "markdown",
      "source": [
        "# ▶ Criando a coleção 'categoria' com validador de esquema."
      ],
      "metadata": {
        "id": "8iBEG2eJLvVf"
      }
    },
    {
      "cell_type": "code",
      "source": [
        "bd.create_collection(\"categoria\", validator= {\n",
        "    \"$jsonSchema\": {\n",
        "        \"bsonType\":\"object\",\n",
        "        \"title\": \"Validacao de esquema\",\n",
        "        \"required\": [\"nome\"],\n",
        "        \"properties\": {\n",
        "            \"nome\": {\n",
        "                \"bsonType\": \"string\",\n",
        "                \"description\": \"Nome da categoria - Campo obrigatório do tipo string!\"\n",
        "            }\n",
        "        }\n",
        "    }\n",
        "})"
      ],
      "metadata": {
        "id": "Mjip037wEl7H",
        "colab": {
          "base_uri": "https://localhost:8080/"
        },
        "outputId": "636044c1-1450-40f9-e877-7bf9adec92b6"
      },
      "execution_count": null,
      "outputs": [
        {
          "output_type": "execute_result",
          "data": {
            "text/plain": [
              "Collection(Database(MongoClient(host=['ac-vc8fosh-shard-00-02.v3hmqat.mongodb.net:27017', 'ac-vc8fosh-shard-00-00.v3hmqat.mongodb.net:27017', 'ac-vc8fosh-shard-00-01.v3hmqat.mongodb.net:27017'], document_class=dict, tz_aware=False, connect=True, retrywrites=True, w='majority', appname='ClusterBD2', authsource='admin', replicaset='atlas-m24u8l-shard-0', tls=True), 'e-commerce'), 'categoria')"
            ]
          },
          "metadata": {},
          "execution_count": 9
        }
      ]
    },
    {
      "cell_type": "markdown",
      "source": [
        "# ▶ Criando a coleção 'produto' com validador de esquema.\n",
        "\n",
        "- A coleção Produto não foi embutida em Categoria pois produtos tendem a ser atulizados frequentemente, o que poderia ser dificultado já que todo o documento da categoria seria modificado. Adicionalmente, como se trata de um E-Commerce, é esperado que cada categoria tenha centanas-milhares de produtos fazendo com que a restrição de espaço se torne um impecilho.\n",
        "- A coleção Avaliação foi embutida em produto para facilitar buscas como \"todas as avaliações do produto X\".\n"
      ],
      "metadata": {
        "id": "LTJFUP9rLx-w"
      }
    },
    {
      "cell_type": "code",
      "source": [
        "bd.create_collection(\"produto\", validator= {\n",
        "    \"$jsonSchema\": {\n",
        "        \"bsonType\":\"object\",\n",
        "        \"title\": \"Validacao de esquema\",\n",
        "        \"required\": [\"nome\", \"preco\", \"id_categoria\"],\n",
        "        \"properties\": {\n",
        "            \"nome\": {\n",
        "                \"bsonType\": \"string\",\n",
        "                \"description\": \"Nome do produto - Campo obrigatório do tipo string!\"\n",
        "            },\n",
        "            \"preco\": {\n",
        "                \"bsonType\": \"double\",\n",
        "                \"description\": \"Preco do produto - Campo obrigatório do tipo double!\"\n",
        "            },\n",
        "            \"id_categoria\": {\n",
        "                \"bsonType\": \"objectId\",\n",
        "                \"description\": \"Id da categoria do produto - Campo obrigatório do tipo ObjectId!\"\n",
        "            },\n",
        "            \"avaliacao\": {\n",
        "                \"bsonType\": \"array\",\n",
        "                \"required\": [\"id_cliente\", \"nota\"],\n",
        "                \"properties\": {\n",
        "                    \"id_cliente\": {\n",
        "                        \"bsonType\": \"objectId\",\n",
        "                        \"description\": \"Id do cliente - Campo obrigatório do tipo objectId!\"\n",
        "                    },\n",
        "                    \"nota\": {\n",
        "                        \"bsonType\": \"int\",\n",
        "                        \"description\": \"Nota da avaliação - Campo obrigatório do tipo int!\"\n",
        "                    },\n",
        "                    \"comentario\": {\n",
        "                        \"bsonType\": \"string\",\n",
        "                        \"description\": \"Comentário da avaliação - Campo opcional do tipo string!\"\n",
        "                    }\n",
        "                }\n",
        "            }\n",
        "        }\n",
        "    }\n",
        "})"
      ],
      "metadata": {
        "id": "rLSw36CQ6f-X",
        "colab": {
          "base_uri": "https://localhost:8080/"
        },
        "outputId": "ac47f0dd-3019-4f62-d6d5-390a70d3ea65"
      },
      "execution_count": null,
      "outputs": [
        {
          "output_type": "execute_result",
          "data": {
            "text/plain": [
              "Collection(Database(MongoClient(host=['ac-vc8fosh-shard-00-02.v3hmqat.mongodb.net:27017', 'ac-vc8fosh-shard-00-00.v3hmqat.mongodb.net:27017', 'ac-vc8fosh-shard-00-01.v3hmqat.mongodb.net:27017'], document_class=dict, tz_aware=False, connect=True, retrywrites=True, w='majority', appname='ClusterBD2', authsource='admin', replicaset='atlas-m24u8l-shard-0', tls=True), 'e-commerce'), 'produto')"
            ]
          },
          "metadata": {},
          "execution_count": 10
        }
      ]
    },
    {
      "cell_type": "markdown",
      "source": [
        "# ▶ Criando a coleção 'transportadora' com validador de esquema.\n",
        "\n",
        "- Transportadora foi mantida como coleção independente por conta da cardinalidade dela com Item, o que faz impossível embuti-la em Item."
      ],
      "metadata": {
        "id": "FDO_M-n2L2XA"
      }
    },
    {
      "cell_type": "code",
      "source": [
        "bd.create_collection(\"transportadora\", validator= {\n",
        "    \"$jsonSchema\": {\n",
        "        \"bsonType\":\"object\",\n",
        "        \"title\": \"Validacao de esquema\",\n",
        "        \"required\": [\"nome\", \"email\"],\n",
        "        \"properties\": {\n",
        "            \"nome\": {\n",
        "                \"bsonType\": \"string\",\n",
        "                \"description\": \"Nome da transportadora - Campo obrigatório do tipo string!\"\n",
        "            },\n",
        "            \"email\": {\n",
        "                \"bsonType\": \"string\",\n",
        "                \"description\": \"Email - Campo obrigatório do tipo string!\"\n",
        "            }\n",
        "        }\n",
        "    }\n",
        "})"
      ],
      "metadata": {
        "id": "MfI2YFOQKhaB",
        "colab": {
          "base_uri": "https://localhost:8080/"
        },
        "outputId": "dbe2de77-f3da-4ce8-9744-4a1c4a90d79d"
      },
      "execution_count": null,
      "outputs": [
        {
          "output_type": "execute_result",
          "data": {
            "text/plain": [
              "Collection(Database(MongoClient(host=['ac-vc8fosh-shard-00-02.v3hmqat.mongodb.net:27017', 'ac-vc8fosh-shard-00-00.v3hmqat.mongodb.net:27017', 'ac-vc8fosh-shard-00-01.v3hmqat.mongodb.net:27017'], document_class=dict, tz_aware=False, connect=True, retrywrites=True, w='majority', appname='ClusterBD2', authsource='admin', replicaset='atlas-m24u8l-shard-0', tls=True), 'e-commerce'), 'transportadora')"
            ]
          },
          "metadata": {},
          "execution_count": 11
        }
      ]
    },
    {
      "cell_type": "markdown",
      "source": [
        "# ▶ Criando a coleção 'pedido' com validador de esquema.\n",
        "\n",
        "- Foi embutido na coleção Pedido a coleção Item. Pelo contexto foi deicidido manter a coleção Pedido independente."
      ],
      "metadata": {
        "id": "w1wZtI7dL4on"
      }
    },
    {
      "cell_type": "code",
      "source": [
        "bd.create_collection(\"pedido\", validator= {\n",
        "    \"$jsonSchema\": {\n",
        "        \"bsonType\":\"object\",\n",
        "        \"title\": \"Validacao de esquema\",\n",
        "        \"required\": [\"data_hora\", \"forma_pgto\", \"item\", \"id_cliente\", \"id_endereco\"],\n",
        "        \"properties\": {\n",
        "            \"data_hora\": {\n",
        "                \"bsonType\": \"date\",\n",
        "                \"description\": \"Momento em que foi efetuado o pedido - Campo obrigatório do tipo timestamp!\"\n",
        "            },\n",
        "            \"forma_pgto\": {\n",
        "                \"bsonType\": \"string\",\n",
        "                \"description\": \"Forma de pagamento - Campo obrigatório do tipo string!\"\n",
        "            },\n",
        "            \"item\": {\n",
        "                \"bsonType\": \"array\",\n",
        "                \"required\": [\"id_produto\", \"quantidade\", \"data_entrega\", \"status\", \"id_transportadora\"],\n",
        "                \"properties\": {\n",
        "                    \"id_produto\": {\n",
        "                        \"bsonType\": \"objectId\",\n",
        "                        \"description\": \"Id do produto - Campo obrigatório do tipo objectId!\"\n",
        "                    },\n",
        "                    \"quantidade\": {\n",
        "                        \"bsonType\": \"int\",\n",
        "                        \"description\": \"Quantidade - Campo obrigatório do tipo int!\"\n",
        "                    },\n",
        "                    \"data_entrega\": {\n",
        "                        \"bsonType\": \"date\",\n",
        "                        \"description\": \"Data prevista para entrega - Campo obrigatório do tipo date!\"\n",
        "                    },\n",
        "                    \"status\": {\n",
        "                        \"bsonType\": \"string\",\n",
        "                        \"description\": \"Status da compra - Cmapo obrigatório do tipo string!\"\n",
        "                    },\n",
        "                    \"id_transportadora\": {\n",
        "                        \"bsonType\": \"objectId\",\n",
        "                        \"description\": \"Id da transportadora - Campo obrigatório do tipo objectId!\"\n",
        "                    }\n",
        "                }\n",
        "            },\n",
        "            \"id_cliente\": {\n",
        "                \"bsonType\": \"objectId\",\n",
        "                \"description\": \"Id do cliente - Campo obrigatório do tipo objetcId!\"\n",
        "            },\n",
        "            \"id_endereco\": {\n",
        "                \"bsonType\": \"int\",\n",
        "                \"description\": \"Id do endereco - Campo obrigatório do tipo int!\"\n",
        "            }\n",
        "        }\n",
        "    }\n",
        "})"
      ],
      "metadata": {
        "id": "U5GpISn08n5S",
        "colab": {
          "base_uri": "https://localhost:8080/"
        },
        "outputId": "56adb2eb-1f66-483a-d65d-e788f18f60c0"
      },
      "execution_count": null,
      "outputs": [
        {
          "output_type": "execute_result",
          "data": {
            "text/plain": [
              "Collection(Database(MongoClient(host=['ac-vc8fosh-shard-00-02.v3hmqat.mongodb.net:27017', 'ac-vc8fosh-shard-00-00.v3hmqat.mongodb.net:27017', 'ac-vc8fosh-shard-00-01.v3hmqat.mongodb.net:27017'], document_class=dict, tz_aware=False, connect=True, retrywrites=True, w='majority', appname='ClusterBD2', authsource='admin', replicaset='atlas-m24u8l-shard-0', tls=True), 'e-commerce'), 'pedido')"
            ]
          },
          "metadata": {},
          "execution_count": 12
        }
      ]
    },
    {
      "cell_type": "markdown",
      "source": [
        "# ▶ Inserts nas collections\n",
        "\n",
        "- Insert clientes\n",
        "\n"
      ],
      "metadata": {
        "id": "eu5Q7MXuqvW0"
      }
    },
    {
      "cell_type": "code",
      "source": [
        "clientes = [\n",
        "    {\n",
        "        \"nome\": \"Aurora Celeste Amaral\",\n",
        "        \"cpf\": \"12345678900\",\n",
        "        \"email\": \"aurora.celeste.amaral@ex.com\",\n",
        "        \"endereco\": [\n",
        "            {\n",
        "                \"_id\": \"0\",\n",
        "                \"cep\": \"12345678\",\n",
        "                \"numero\": 100,\n",
        "                \"complemento\": \"Apto 101\"\n",
        "            },\n",
        "            {\n",
        "                \"_id\": \"1\",\n",
        "                \"cep\": \"67890123\",\n",
        "                \"numero\": 60,\n",
        "                \"complemento\": \"Casa 2\"\n",
        "            }\n",
        "        ]\n",
        "    },\n",
        "    {\n",
        "        \"nome\": \"Dante Ícaro Monteiro\",\n",
        "        \"cpf\": \"23456789011\",\n",
        "        \"email\": \"dante.icaro.monteiro@exe.com\",\n",
        "        \"endereco\": [\n",
        "            {\n",
        "                \"_id\": \"2\",\n",
        "                \"cep\": \"23456789\",\n",
        "                \"numero\": 236,\n",
        "                \"complemento\": None\n",
        "            },\n",
        "            {\n",
        "                \"_id\": \"3\",\n",
        "                \"cep\": \"78901234\",\n",
        "                \"numero\": 7,\n",
        "                \"complemento\": \"Ap 404 Bloco 2\"\n",
        "            }\n",
        "        ]\n",
        "    },\n",
        "    {\n",
        "        \"nome\": \"Isadora Lívia Pereira\",\n",
        "        \"cpf\": \"34567890122\",\n",
        "        \"email\": \"isadora.livia.pereira@ele.com\",\n",
        "        \"endereco\": [\n",
        "            {\n",
        "                \"_id\": \"4\",\n",
        "                \"cep\": \"34567890\",\n",
        "                \"numero\": 350,\n",
        "                \"complemento\": \"Apto 202\"\n",
        "            }\n",
        "        ]\n",
        "    },\n",
        "    {\n",
        "        \"nome\": \"Valentina Sofia Barros\",\n",
        "        \"cpf\": \"45678901233\",\n",
        "        \"email\": \"valentina.sofia.barros@ele.com\",\n",
        "        \"endereco\": [\n",
        "            {\n",
        "              \"_id\": \"5\",\n",
        "              \"cep\": \"45678901\",\n",
        "              \"numero\": 407,\n",
        "              \"complemento\": \"Bloco B\"\n",
        "          }\n",
        "        ]\n",
        "    },\n",
        "    {\n",
        "        \"nome\": \"Leandro Tiago Fernandes\",\n",
        "        \"cpf\": \"56789012344\",\n",
        "        \"email\": \"leandro.tiago.fernandes@emle.com\",\n",
        "        \"endereco\" : [\n",
        "            {\n",
        "                \"_id\": \"6\",\n",
        "                \"cep\": \"56789012\",\n",
        "                \"numero\": 21,\n",
        "                \"complemento\": \"Ap 339 Bl D\"\n",
        "            },\n",
        "            {\n",
        "                \"_id\": \"7\",\n",
        "                \"cep\": \"89012345\",\n",
        "                \"numero\": 88,\n",
        "                \"complemento\": \"Ap 201 Bloco C\"\n",
        "            }\n",
        "        ]\n",
        "    }\n",
        "]"
      ],
      "metadata": {
        "id": "aLszxq2dq-8J"
      },
      "execution_count": null,
      "outputs": []
    },
    {
      "cell_type": "code",
      "source": [
        "try:\n",
        "    idClientes = bd.cliente.insert_many(clientes).inserted_ids\n",
        "    print(idClientes)\n",
        "except Exception as e:\n",
        "    print(f\"Erro completo: {e}\")\n",
        "    print(f\"Tipo de erro: \" + type(e).__name__)\n",
        "    print(f\"Código: {e.details.get('code')}\")\n",
        "    print(f\"Mensagem: {e.details.get('errmsg')}\")"
      ],
      "metadata": {
        "colab": {
          "base_uri": "https://localhost:8080/"
        },
        "id": "1fbuQHO-q2YZ",
        "outputId": "ff89d897-00f4-4d0d-9a50-fe11e19ea2de"
      },
      "execution_count": null,
      "outputs": [
        {
          "output_type": "stream",
          "name": "stdout",
          "text": [
            "[ObjectId('666f03e41d6e9b49c4f7debf'), ObjectId('666f03e41d6e9b49c4f7dec0'), ObjectId('666f03e41d6e9b49c4f7dec1'), ObjectId('666f03e41d6e9b49c4f7dec2'), ObjectId('666f03e41d6e9b49c4f7dec3')]\n"
          ]
        }
      ]
    },
    {
      "cell_type": "markdown",
      "source": [
        "\n",
        "- Insert categorias"
      ],
      "metadata": {
        "id": "Bf1ee8AQ3sKw"
      }
    },
    {
      "cell_type": "code",
      "source": [
        "categorias = [\n",
        "    {\n",
        "        \"nome\": \"Casa e Cozinha\"\n",
        "    },\n",
        "    {\n",
        "        \"nome\": \"Informática\"\n",
        "    },\n",
        "    {\n",
        "        \"nome\": \"Papelaria e Escritório\"\n",
        "    }\n",
        "]"
      ],
      "metadata": {
        "id": "yiChTEyNvs_z"
      },
      "execution_count": null,
      "outputs": []
    },
    {
      "cell_type": "code",
      "source": [
        "try:\n",
        "    idCategorias = bd.categoria.insert_many(categorias).inserted_ids\n",
        "except Exception as e:\n",
        "    print(f\"Erro completo: {e}\")\n",
        "    print(f\"Tipo de erro: \" + type(e).__name__)\n",
        "    print(f\"Código: {e.details.get('code')}\")\n",
        "    print(f\"Mensagem: {e.details.get('errmsg')}\")"
      ],
      "metadata": {
        "id": "2xrXZhmQsyvI"
      },
      "execution_count": null,
      "outputs": []
    },
    {
      "cell_type": "markdown",
      "source": [
        "- Insert produtos"
      ],
      "metadata": {
        "id": "-tVDcUTf3ug5"
      }
    },
    {
      "cell_type": "code",
      "source": [
        "produtos = [\n",
        "    {\n",
        "        \"nome\": \"Panela de Pressão\",\n",
        "        \"preco\": 199.9,\n",
        "        \"id_categoria\": idCategorias[0],\n",
        "        \"avaliacao\": [\n",
        "            {\n",
        "                \"id_cliente\": idClientes[0],\n",
        "                \"nota\": 4,\n",
        "                \"comentario\": \"Amei! Só que chegou atrasado... culpa do correio.\"\n",
        "            }\n",
        "        ]\n",
        "    },\n",
        "    {\n",
        "        \"nome\": \"Jogo de Talheres\",\n",
        "        \"preco\": 89.99,\n",
        "        \"id_categoria\": idCategorias[0],\n",
        "        \"avaliacao\": [\n",
        "            {\n",
        "                \"id_cliente\": idClientes[0],\n",
        "                \"nota\": 4,\n",
        "                \"comentario\": \"Mais ou menos. Esperava mais pelo preço.\"\n",
        "            }\n",
        "        ]\n",
        "    },\n",
        "    {\n",
        "        \"nome\": \"Liquidificador\",\n",
        "        \"preco\": 129.9,\n",
        "        \"id_categoria\": idCategorias[0],\n",
        "        \"avaliacao\": [\n",
        "            {\n",
        "                \"id_cliente\": idClientes[1],\n",
        "                \"nota\": 4,\n",
        "                \"comentario\": \"Gostei, mas poderia ser mais barato.\"\n",
        "            }\n",
        "        ]\n",
        "    },\n",
        "    {\n",
        "        \"nome\": \"Faqueiro Inox\",\n",
        "        \"preco\": 249.9,\n",
        "        \"id_categoria\": idCategorias[0],\n",
        "        \"avaliacao\": [\n",
        "            {\n",
        "                \"id_cliente\": idClientes[1],\n",
        "                \"nota\": 4,\n",
        "                \"comentario\": \"Bom produto, mas a embalagem estava rasgada.\"\n",
        "            }\n",
        "        ]\n",
        "    },\n",
        "    {\n",
        "        \"nome\": \"Notebook\",\n",
        "        \"preco\": 3599.9,\n",
        "        \"id_categoria\": idCategorias[1],\n",
        "        \"avaliacao\":[\n",
        "            {\n",
        "                \"id_cliente\": idClientes[2],\n",
        "                \"nota\": 5,\n",
        "                \"comentario\": \"Perfeito! Já indiquei para os amigos.\"\n",
        "            },\n",
        "            {\n",
        "                \"id_cliente\": idClientes[3],\n",
        "                \"nota\": 5,\n",
        "                \"comentario\": \"OTMIO CONSIGO JOGAR GENSHIN O DIA TOODO:)\"\n",
        "            }\n",
        "        ]\n",
        "    },\n",
        "    {\n",
        "        \"nome\": \"Mouse Gamer\",\n",
        "        \"preco\": 149.9,\n",
        "        \"id_categoria\": idCategorias[1],\n",
        "        \"avaliacao\": [\n",
        "            {\n",
        "                \"id_cliente\": idClientes[0],\n",
        "                \"nota\": 5,\n",
        "                \"comentario\": \"Fantástico! Minha avó adorou.\"\n",
        "            },\n",
        "            {\n",
        "                \"id_cliente\": idClientes[4],\n",
        "                \"nota\": 2,\n",
        "                \"comentario\": \"Não gostei, mas o meu gato adorou...\"\n",
        "           }\n",
        "        ]\n",
        "    },\n",
        "    {\n",
        "        \"nome\": \"Teclado Mecânico\",\n",
        "        \"preco\": 299.9,\n",
        "        \"id_categoria\": idCategorias[1],\n",
        "        \"avaliacao\": [\n",
        "            {\n",
        "                \"id_cliente\": idClientes[1],\n",
        "                \"nota\": 3,\n",
        "                \"comentario\": \"Chegou rápido, lindo, siplesmente INCRÍVEL\"\n",
        "            },\n",
        "            {\n",
        "                \"id_cliente\": idClientes[4],\n",
        "                \"nota\": 5,\n",
        "                \"comentario\": \"Muito bonito, funciona perfeitamente\"\n",
        "            }\n",
        "        ]\n",
        "    },\n",
        "    {\n",
        "        \"nome\": \"Monitor 24\\\"\",\n",
        "        \"preco\": 899.9,\n",
        "        \"id_categoria\": idCategorias[1],\n",
        "        \"avaliacao\": [\n",
        "            {\n",
        "                \"id_cliente\": idClientes[1],\n",
        "                \"nota\": 5,\n",
        "                \"comentario\": \"Simplesmente incrível! Até meu vizinho quer um agora.\"\n",
        "            },\n",
        "            {\n",
        "                \"id_cliente\": idClientes[2],\n",
        "                \"nota\": 3,\n",
        "                \"comentario\": \"É okay, nada de espetacular.\"\n",
        "            }\n",
        "        ]\n",
        "    },\n",
        "    {\n",
        "        \"nome\": \"Caderno Universitário\",\n",
        "        \"preco\": 19.9,\n",
        "        \"id_categoria\": idCategorias[2],\n",
        "        \"avaliacao\": [\n",
        "            {\n",
        "                \"id_cliente\": idClientes[2],\n",
        "                \"nota\": 1,\n",
        "                \"comentario\": \"Veio todo amassado... Decepção total.\"\n",
        "           },\n",
        "           {\n",
        "               \"id_cliente\": idClientes[3],\n",
        "               \"nota\": 5,\n",
        "               \"comentario\": \"Produto maravilhiso! Recomendo pra todo mundo.\"\n",
        "          }\n",
        "        ]\n",
        "    },\n",
        "    {\n",
        "        \"nome\": \"Caneta Esferográfica\",\n",
        "        \"preco\": 2.99,\n",
        "        \"id_categoria\": idCategorias[2],\n",
        "        \"avaliacao\": [\n",
        "            {\n",
        "                \"id_cliente\": idClientes[2],\n",
        "                \"nota\": 4,\n",
        "                \"comentario\": \"Bom, mas o manual veio em chinês.\"\n",
        "            },\n",
        "            {\n",
        "                \"id_cliente\": idClientes[4],\n",
        "                \"nota\": 1,\n",
        "                \"comentario\": \"Detestei! Veio completamente diferente do anunciado.\"\n",
        "            },\n",
        "            {\n",
        "                \"id_cliente\": idClientes[3],\n",
        "                \"nota\": 5,\n",
        "                \"comentario\": \"Escreve\"\n",
        "            }\n",
        "        ]\n",
        "    },\n",
        "    {\n",
        "        \"nome\": \"Agenda 2024\",\n",
        "        \"preco\": 39.9,\n",
        "        \"id_categoria\": idCategorias[2],\n",
        "        \"avaliacao\": [\n",
        "            {\n",
        "                \"id_cliente\": idClientes[3],\n",
        "                \"nota\": 3,\n",
        "                \"comentario\": \"Horrivel! Não funcona de jeito nenhum.\"\n",
        "            },\n",
        "            {\n",
        "                \"id_cliente\": idClientes[4],\n",
        "                \"nota\": 5,\n",
        "                \"comentario\": \"Muito bonito e organizado AMEEI\"\n",
        "            }\n",
        "        ]\n",
        "    },\n",
        "    {\n",
        "        \"nome\": \"Grampeador\",\n",
        "        \"preco\": 25.9,\n",
        "        \"id_categoria\": idCategorias[2],\n",
        "        \"avaliacao\": [\n",
        "            {\n",
        "                \"id_cliente\": idClientes[0],\n",
        "                \"nota\": 5,\n",
        "                \"comentario\": \"Superou minhas expectativas! Vou comprar mais.\"\n",
        "            }\n",
        "        ]\n",
        "    }\n",
        "]"
      ],
      "metadata": {
        "id": "IJOA-TbuwCDJ"
      },
      "execution_count": null,
      "outputs": []
    },
    {
      "cell_type": "code",
      "source": [
        "try:\n",
        "    idProdutos = bd.produto.insert_many(produtos).inserted_ids\n",
        "except Exception as e:\n",
        "    print(f\"Erro completo: {e}\")\n",
        "    print(f\"Tipo de erro: \" + type(e).__name__)\n",
        "    print(f\"Código: {e.details.get('code')}\")\n",
        "    print(f\"Mensagem: {e.details.get('errmsg')}\")"
      ],
      "metadata": {
        "id": "v6Mrm0R116m9"
      },
      "execution_count": null,
      "outputs": []
    },
    {
      "cell_type": "markdown",
      "source": [
        "- Insert transportadoras"
      ],
      "metadata": {
        "id": "ZV2viJ4Y3ybA"
      }
    },
    {
      "cell_type": "code",
      "source": [
        "transportadoras = [\n",
        "    {\n",
        "        \"nome\": \"Transporte Águia Dourada\",\n",
        "        \"email\": \"info@aguiadourada.com\"\n",
        "    },\n",
        "    {\n",
        "        \"nome\": \"Entrega Expressa\",\n",
        "        \"email\": \"suporte@entregaexpressa.com\"\n",
        "    }\n",
        "]"
      ],
      "metadata": {
        "id": "gkI5Bqj42Kel"
      },
      "execution_count": null,
      "outputs": []
    },
    {
      "cell_type": "code",
      "source": [
        "try:\n",
        "    idTrans = bd.transportadora.insert_many(transportadoras).inserted_ids\n",
        "except Exception as e:\n",
        "    print(f\"Erro completo: {e}\")\n",
        "    print(f\"Tipo de erro: \" + type(e).__name__)\n",
        "    print(f\"Código: {e.details.get('code')}\")\n",
        "    print(f\"Mensagem: {e.details.get('errmsg')}\")"
      ],
      "metadata": {
        "id": "I7SQ_UHT2RFp"
      },
      "execution_count": null,
      "outputs": []
    },
    {
      "cell_type": "markdown",
      "source": [
        "- Insert pedidos"
      ],
      "metadata": {
        "id": "b3wfPEeU30jw"
      }
    },
    {
      "cell_type": "code",
      "source": [
        "pedidos = [\n",
        "    {\n",
        "        \"data_hora\": datetime(2024,1,1,10,15,30),\n",
        "        \"forma_pgto\": \"CC\",\n",
        "        \"id_cliente\": idClientes[0],\n",
        "        \"id_endereco\": 0,\n",
        "        \"item\": [\n",
        "            {\n",
        "                \"id_produto\": idProdutos[0],\n",
        "                \"quantidade\": 1,\n",
        "                \"data_entrega\": datetime.strptime('2024-01-09', '%Y-%m-%d'),\n",
        "                \"status\": \"ENTREGUE\",\n",
        "                \"id_transportadora\": idTrans[0]\n",
        "            },\n",
        "            {\n",
        "                \"id_produto\": idProdutos[1],\n",
        "                \"quantidade\": 2,\n",
        "                \"data_entrega\": datetime.strptime('2024-01-06', '%Y-%m-%d'),\n",
        "                \"status\": \"ENTREGUE\",\n",
        "                \"id_transportadora\": idTrans[1]\n",
        "            }\n",
        "\n",
        "        ]\n",
        "    },\n",
        "    {\n",
        "        \"data_hora\": datetime(2024,1,15,14,20,45),\n",
        "        \"forma_pgto\": \"BO\",\n",
        "        \"id_cliente\": idClientes[1],\n",
        "        \"id_endereco\": 2,\n",
        "        \"item\": [\n",
        "             {\n",
        "                 \"id_produto\": idProdutos[2],\n",
        "                 \"quantidade\": 1,\n",
        "                 \"data_entrega\": datetime.strptime('2024-01-20', '%Y-%m-%d'),\n",
        "                 \"status\": \"ENTREGUE\",\n",
        "                 \"id_transportadora\": idTrans[0]\n",
        "             },\n",
        "             {\n",
        "                 \"id_produto\": idProdutos[3],\n",
        "                 \"quantidade\": 1,\n",
        "                 \"data_entrega\": datetime.strptime('2024-01-20', '%Y-%m-%d'),\n",
        "                 \"status\": \"ENTREGUE\",\n",
        "                 \"id_transportadora\": idTrans[0]\n",
        "             }\n",
        "\n",
        "        ]\n",
        "    },\n",
        "    {\n",
        "        \"data_hora\": datetime(2024,2,17,16,35,50),\n",
        "        \"forma_pgto\": \"PX\",\n",
        "        \"id_cliente\": idClientes[2],\n",
        "        \"id_endereco\": 4,\n",
        "        \"item\": [\n",
        "            {\n",
        "                \"id_produto\": idProdutos[8],\n",
        "                \"quantidade\": 1,\n",
        "                \"data_entrega\": datetime.strptime('2024-02-26', '%Y-%m-%d'),\n",
        "                \"status\": \"ENTREGUE\",\n",
        "                \"id_transportadora\": idTrans[1]\n",
        "            },\n",
        "            {\n",
        "                \"id_produto\": idProdutos[9],\n",
        "                \"quantidade\": 2,\n",
        "                \"data_entrega\": datetime.strptime('2024-02-26', '%Y-%m-%d'),\n",
        "                \"status\": \"ENTREGUE\",\n",
        "                \"id_transportadora\": idTrans[1]\n",
        "            }\n",
        "        ]\n",
        "    },\n",
        "    {\n",
        "        \"data_hora\": datetime(2024,3,4,11,45,30),\n",
        "        \"forma_pgto\": \"CD\",\n",
        "        \"id_cliente\": idClientes[3],\n",
        "        \"id_endereco\": 5,\n",
        "        \"item\": [\n",
        "            {\n",
        "                \"id_produto\": idProdutos[10],\n",
        "                \"quantidade\": 1,\n",
        "                \"data_entrega\": datetime.strptime('2024-03-12', '%Y-%m-%d'),\n",
        "                \"status\": \"ENTREGUE\",\n",
        "                \"id_transportadora\": idTrans[0]\n",
        "            },\n",
        "            {\n",
        "                \"id_produto\": idProdutos[8],\n",
        "                \"quantidade\": 1,\n",
        "                \"data_entrega\": datetime.strptime('2024-03-10', '%Y-%m-%d'),\n",
        "                \"status\": \"ENTREGUE\",\n",
        "                \"id_transportadora\": idTrans[1]\n",
        "            }\n",
        "        ]\n",
        "    },\n",
        "    {\n",
        "        \"data_hora\": datetime(2024,3,5,9,10,25),\n",
        "        \"forma_pgto\": \"PX\",\n",
        "        \"id_cliente\": idClientes[4],\n",
        "        \"id_endereco\": 6,\n",
        "        \"item\": [\n",
        "            {\n",
        "                \"id_produto\": idProdutos[5],\n",
        "                \"quantidade\": 1,\n",
        "                \"data_entrega\": datetime.strptime('2024-03-11', '%Y-%m-%d'),\n",
        "                \"status\": \"ENTREGUE\",\n",
        "                \"id_transportadora\": idTrans[1]\n",
        "            },\n",
        "            {\n",
        "                \"id_produto\": idProdutos[9],\n",
        "                \"quantidade\": 5,\n",
        "                \"data_entrega\": datetime.strptime('2024-03-14', '%Y-%m-%d'),\n",
        "                \"status\": \"ENTREGUE\",\n",
        "                \"id_transportadora\": idTrans[0]\n",
        "            }\n",
        "        ]\n",
        "    },\n",
        "    {\n",
        "        \"data_hora\": datetime(2024,3,6,17,25,30),\n",
        "        \"forma_pgto\": \"CC\",\n",
        "        \"id_cliente\": idClientes[0],\n",
        "        \"id_endereco\": 1,\n",
        "        \"item\": [\n",
        "            {\n",
        "                \"id_produto\": idProdutos[5],\n",
        "                \"quantidade\": 1,\n",
        "                \"data_entrega\": datetime.strptime('2024-03-17', '%Y-%m-%d'),\n",
        "                \"status\": \"ENTREGUE\",\n",
        "                \"id_transportadora\": idTrans[1]\n",
        "            },\n",
        "            { \"id_produto\": idProdutos[11],\n",
        "              \"quantidade\": 1,\n",
        "              \"data_entrega\": datetime.strptime('2024-03-17', '%Y-%m-%d'),\n",
        "              \"status\": \"ENTREGUE\",\n",
        "              \"id_transportadora\": idTrans[1]\n",
        "            }\n",
        "        ]\n",
        "    },\n",
        "    {\n",
        "        \"data_hora\": datetime(2024,4,20,12,50,40),\n",
        "        \"forma_pgto\": \"BO\",\n",
        "        \"id_cliente\": idClientes[1],\n",
        "        \"id_endereco\": 3,\n",
        "        \"item\": [\n",
        "            {\n",
        "                \"id_produto\": idProdutos[6],\n",
        "                \"quantidade\": 1,\n",
        "                \"data_entrega\": datetime.strptime('2024-05-01', '%Y-%m-%d'),\n",
        "                \"status\": \"ENTREGUE\",\n",
        "                \"id_transportadora\": idTrans[0]\n",
        "            },\n",
        "            {\n",
        "                \"id_produto\": idProdutos[7],\n",
        "                \"quantidade\": 1,\n",
        "                \"data_entrega\": datetime.strptime('2024-05-01', '%Y-%m-%d'),\n",
        "                \"status\": \"ENTREGUE\",\n",
        "                \"id_transportadora\": idTrans[0]\n",
        "            }\n",
        "        ]\n",
        "    },\n",
        "    {\n",
        "        \"data_hora\": datetime(2024,4,26,18,15,20),\n",
        "        \"forma_pgto\": \"PX\",\n",
        "        \"id_cliente\": idClientes[2],\n",
        "        \"id_endereco\": 4,\n",
        "        \"item\": [\n",
        "            {\n",
        "                \"id_produto\": idProdutos[4],\n",
        "                \"quantidade\": 1,\n",
        "                \"data_entrega\": datetime.strptime('2024-05-10', '%Y-%m-%d'),\n",
        "                \"status\": \"ENTREGUE\",\n",
        "                \"id_transportadora\": idTrans[0]\n",
        "            },\n",
        "            {\n",
        "                \"id_produto\": idProdutos[7],\n",
        "                \"quantidade\": 2,\n",
        "                \"data_entrega\": datetime.strptime('2024-05-10', '%Y-%m-%d'),\n",
        "                \"status\": \"ENTREGUE\",\n",
        "                \"id_transportadora\": idTrans[0]\n",
        "            }\n",
        "        ]\n",
        "    },\n",
        "    {\n",
        "        \"data_hora\": datetime(2024,5,1,15,30,55),\n",
        "        \"forma_pgto\": \"CD\",\n",
        "        \"id_cliente\": idClientes[3],\n",
        "        \"id_endereco\": 5,\n",
        "        \"item\": [\n",
        "            {\n",
        "                \"id_produto\": idProdutos[4],\n",
        "                \"quantidade\": 1,\n",
        "                \"data_entrega\": datetime.strptime('2024-05-15', '%Y-%m-%d'),\n",
        "                \"status\": \"ENTREGUE\",\n",
        "                \"id_transportadora\": idTrans[1]\n",
        "            },\n",
        "            {\n",
        "                \"id_produto\": idProdutos[9],\n",
        "                \"quantidade\": 1,\n",
        "                \"data_entrega\": datetime.strptime('2024-05-15', '%Y-%m-%d'),\n",
        "                \"status\": \"ENTREGUE\",\n",
        "                \"id_transportadora\": idTrans[1]\n",
        "            }\n",
        "        ]\n",
        "    },\n",
        "    {\n",
        "        \"data_hora\": datetime(2024,5,19,20,45,35),\n",
        "        \"forma_pgto\": \"CD\",\n",
        "        \"id_cliente\": idClientes[4],\n",
        "        \"id_endereco\": 7,\n",
        "        \"item\": [\n",
        "            {\n",
        "                \"id_produto\": idProdutos[10],\n",
        "                \"quantidade\": 1,\n",
        "                \"data_entrega\": datetime.strptime('2024-06-20', '%Y-%m-%d'),\n",
        "                \"status\": \"TRANSITO\",\n",
        "                \"id_transportadora\": idTrans[0]\n",
        "            },\n",
        "            {\n",
        "                \"id_produto\": idProdutos[6],\n",
        "                \"quantidade\": 1,\n",
        "                \"data_entrega\": datetime.strptime('2024-06-20', '%Y-%m-%d'),\n",
        "                \"status\": \"TRANSITO\",\n",
        "                \"id_transportadora\": idTrans[1]\n",
        "            }\n",
        "        ]\n",
        "    }\n",
        "]"
      ],
      "metadata": {
        "id": "yN6Vg6IP_TPo"
      },
      "execution_count": null,
      "outputs": []
    },
    {
      "cell_type": "code",
      "source": [
        "try:\n",
        "    bd.pedido.insert_many(pedidos)\n",
        "except Exception as e:\n",
        "    print(f\"Erro completo: {e}\")\n",
        "    print(f\"Tipo de erro: \" + type(e).__name__)\n",
        "    print(f\"Código: {e.details.get('code')}\")\n",
        "    print(f\"Mensagem: {e.details.get('errmsg')}\")"
      ],
      "metadata": {
        "id": "tg1hFIH7mWbc"
      },
      "execution_count": null,
      "outputs": []
    },
    {
      "cell_type": "markdown",
      "source": [
        "# ▶ Selects\n"
      ],
      "metadata": {
        "id": "X6Mu6nZbRSwj"
      }
    },
    {
      "cell_type": "markdown",
      "source": [
        "- Média de avaliações por categoria"
      ],
      "metadata": {
        "id": "C_0XNouNYFeb"
      }
    },
    {
      "cell_type": "code",
      "source": [
        "result = bd.produto.aggregate([\n",
        "    {\"$unwind\": \"$avaliacao\"},\n",
        "    {\"$lookup\": {\n",
        "        \"from\": \"categoria\",\n",
        "        \"localField\": \"id_categoria\",\n",
        "        \"foreignField\": \"_id\",\n",
        "        \"as\": \"categoria\"\n",
        "    }},\n",
        "    {\"$unwind\": \"$categoria\"},\n",
        "    {\"$group\": {\n",
        "        \"_id\": \"$categoria.nome\",\n",
        "        \"Media_Nota\": {\"$avg\": \"$avaliacao.nota\"},\n",
        "        \"Media_Precos\": {\"$avg\": \"$preco\"}\n",
        "    }},\n",
        "    {\"$project\": {\n",
        "        \"_id\": 0,\n",
        "        \"nome\": \"$_id\",\n",
        "        \"Media_Nota\": 1,\n",
        "        \"Media_Precos\": 1\n",
        "    }}\n",
        "])\n",
        "for r in result:\n",
        "  print(f\"Categoria: {r['nome']} | Média avaliações: {round(r['Media_Nota'], 1)} | Média preços: {round(r['Media_Precos'], 2)}\")"
      ],
      "metadata": {
        "colab": {
          "base_uri": "https://localhost:8080/"
        },
        "id": "Jk7t9UyNT6Og",
        "outputId": "9be91c02-69fb-45db-8a88-0cf09750ad50"
      },
      "execution_count": null,
      "outputs": [
        {
          "output_type": "stream",
          "name": "stdout",
          "text": [
            "Categoria: Casa e Cozinha | Média avaliações: 4.0 | Média preços: 167.42\n",
            "Categoria: Papelaria e Escritório | Média avaliações: 3.6 | Média preços: 19.31\n",
            "Categoria: Informática | Média avaliações: 4.1 | Média preços: 1237.4\n"
          ]
        }
      ]
    },
    {
      "cell_type": "markdown",
      "source": [
        "- Média de avaliações por produto"
      ],
      "metadata": {
        "id": "_v5hejqjYKPq"
      }
    },
    {
      "cell_type": "code",
      "source": [
        "result = bd.produto.aggregate([\n",
        "    {\"$unwind\": \"$avaliacao\"},\n",
        "    {\"$group\": {\n",
        "        \"_id\": {\"nome\": \"$nome\", \"preco\": \"$preco\"},\n",
        "        \"Media_Nota\": {\"$avg\": \"$avaliacao.nota\"}\n",
        "    }},\n",
        "    {\"$project\": {\n",
        "        \"nome\": \"$_id.nome\",\n",
        "        \"preco\": \"$_id.preco\",\n",
        "        \"Media_Nota\": 1\n",
        "    }}\n",
        "])\n",
        "for r in result:\n",
        "    print(f\"Produto: {r['nome']} | Nota: {round(r['Media_Nota'], 1)} | Preço: {round(r['preco'], 2)}\")"
      ],
      "metadata": {
        "colab": {
          "base_uri": "https://localhost:8080/"
        },
        "id": "5FT12xmTTmar",
        "outputId": "49994c8e-93c5-4628-c76c-767c9afa2b2d"
      },
      "execution_count": null,
      "outputs": [
        {
          "output_type": "stream",
          "name": "stdout",
          "text": [
            "Produto: Faqueiro Inox | Nota: 4.0 | Preço: 249.9\n",
            "Produto: Monitor 24\" | Nota: 4.0 | Preço: 899.9\n",
            "Produto: Agenda 2024 | Nota: 4.0 | Preço: 39.9\n",
            "Produto: Liquidificador | Nota: 4.0 | Preço: 129.9\n",
            "Produto: Jogo de Talheres | Nota: 4.0 | Preço: 89.99\n",
            "Produto: Caderno Universitário | Nota: 3.0 | Preço: 19.9\n",
            "Produto: Caneta Esferográfica | Nota: 3.3 | Preço: 2.99\n",
            "Produto: Panela de Pressão | Nota: 4.0 | Preço: 199.9\n",
            "Produto: Notebook | Nota: 5.0 | Preço: 3599.9\n",
            "Produto: Mouse Gamer | Nota: 3.5 | Preço: 149.9\n",
            "Produto: Teclado Mecânico | Nota: 4.0 | Preço: 299.9\n",
            "Produto: Grampeador | Nota: 5.0 | Preço: 25.9\n"
          ]
        }
      ]
    },
    {
      "cell_type": "markdown",
      "source": [
        "- Avaliações de todos os produtos"
      ],
      "metadata": {
        "id": "tx72fOQfYVQQ"
      }
    },
    {
      "cell_type": "code",
      "source": [
        "result = bd.produto.aggregate([{\"$unwind\": \"$avaliacao\"},\n",
        "    {\"$lookup\": {\n",
        "        \"from\": \"categoria\",\n",
        "        \"localField\": \"id_categoria\",\n",
        "        \"foreignField\": \"_id\",\n",
        "        \"as\": \"categoria\"\n",
        "    }},\n",
        "    {\"$unwind\": \"$categoria\"},\n",
        "    {\"$project\": {\n",
        "        \"_id\": 0,\n",
        "        \"nota\": \"$avaliacao.nota\",\n",
        "        \"comentario\": \"$avaliacao.comentario\",\n",
        "        \"produto\": \"$nome\",\n",
        "        \"preco\": \"$preco\",\n",
        "        \"categoria\": \"$categoria.nome\"\n",
        "    }}])\n",
        "for r in result:\n",
        "    print(f\"Produto: {r['produto']} | Nota: {round(r['nota'], 1)} | Preço: {round(r['preco'], 2)} | Comentário: {r['comentario']} | Categoria: {r['categoria']}\")"
      ],
      "metadata": {
        "colab": {
          "base_uri": "https://localhost:8080/"
        },
        "id": "5iAm1O-4UnGb",
        "outputId": "1e5ca86a-fea2-4f3e-c9fe-7c3d0f7ce034"
      },
      "execution_count": null,
      "outputs": [
        {
          "output_type": "stream",
          "name": "stdout",
          "text": [
            "Produto: Panela de Pressão | Nota: 4 | Preço: 199.9 | Comentário: Amei! Só que chegou atrasado... culpa do correio. | Categoria: Casa e Cozinha\n",
            "Produto: Jogo de Talheres | Nota: 4 | Preço: 89.99 | Comentário: Mais ou menos. Esperava mais pelo preço. | Categoria: Casa e Cozinha\n",
            "Produto: Liquidificador | Nota: 4 | Preço: 129.9 | Comentário: Gostei, mas poderia ser mais barato. | Categoria: Casa e Cozinha\n",
            "Produto: Faqueiro Inox | Nota: 4 | Preço: 249.9 | Comentário: Bom produto, mas a embalagem estava rasgada. | Categoria: Casa e Cozinha\n",
            "Produto: Notebook | Nota: 5 | Preço: 3599.9 | Comentário: Perfeito! Já indiquei para os amigos. | Categoria: Informática\n",
            "Produto: Notebook | Nota: 5 | Preço: 3599.9 | Comentário: OTMIO CONSIGO JOGAR GENSHIN O DIA TOODO:) | Categoria: Informática\n",
            "Produto: Mouse Gamer | Nota: 5 | Preço: 149.9 | Comentário: Fantástico! Minha avó adorou. | Categoria: Informática\n",
            "Produto: Mouse Gamer | Nota: 2 | Preço: 149.9 | Comentário: Não gostei, mas o meu gato adorou... | Categoria: Informática\n",
            "Produto: Teclado Mecânico | Nota: 3 | Preço: 299.9 | Comentário: Chegou rápido, lindo, siplesmente INCRÍVEL | Categoria: Informática\n",
            "Produto: Teclado Mecânico | Nota: 5 | Preço: 299.9 | Comentário: Muito bonito, funciona perfeitamente | Categoria: Informática\n",
            "Produto: Monitor 24\" | Nota: 5 | Preço: 899.9 | Comentário: Simplesmente incrível! Até meu vizinho quer um agora. | Categoria: Informática\n",
            "Produto: Monitor 24\" | Nota: 3 | Preço: 899.9 | Comentário: É okay, nada de espetacular. | Categoria: Informática\n",
            "Produto: Caderno Universitário | Nota: 1 | Preço: 19.9 | Comentário: Veio todo amassado... Decepção total. | Categoria: Papelaria e Escritório\n",
            "Produto: Caderno Universitário | Nota: 5 | Preço: 19.9 | Comentário: Produto maravilhiso! Recomendo pra todo mundo. | Categoria: Papelaria e Escritório\n",
            "Produto: Caneta Esferográfica | Nota: 4 | Preço: 2.99 | Comentário: Bom, mas o manual veio em chinês. | Categoria: Papelaria e Escritório\n",
            "Produto: Caneta Esferográfica | Nota: 1 | Preço: 2.99 | Comentário: Detestei! Veio completamente diferente do anunciado. | Categoria: Papelaria e Escritório\n",
            "Produto: Caneta Esferográfica | Nota: 5 | Preço: 2.99 | Comentário: Escreve | Categoria: Papelaria e Escritório\n",
            "Produto: Agenda 2024 | Nota: 3 | Preço: 39.9 | Comentário: Horrivel! Não funcona de jeito nenhum. | Categoria: Papelaria e Escritório\n",
            "Produto: Agenda 2024 | Nota: 5 | Preço: 39.9 | Comentário: Muito bonito e organizado AMEEI | Categoria: Papelaria e Escritório\n",
            "Produto: Grampeador | Nota: 5 | Preço: 25.9 | Comentário: Superou minhas expectativas! Vou comprar mais. | Categoria: Papelaria e Escritório\n"
          ]
        }
      ]
    },
    {
      "cell_type": "markdown",
      "source": [
        "- 5 produtos mais vendidos"
      ],
      "metadata": {
        "id": "amkxXknDtvqF"
      }
    },
    {
      "cell_type": "code",
      "source": [
        "top_vendidos = bd.pedido.aggregate([\n",
        "    {\"$unwind\": \"$item\"},\n",
        "    {\"$group\": {\n",
        "        \"_id\": \"$item.id_produto\",\n",
        "        \"qtd_vendidos\": {\"$sum\": \"$item.quantidade\"}\n",
        "      }\n",
        "    },\n",
        "    {\"$sort\": {\"qtd_vendidos\": -1}},\n",
        "    {\"$limit\": 5},\n",
        "    {\"$lookup\": {\n",
        "        \"from\": \"produto\",\n",
        "        \"localField\": \"_id\",\n",
        "        \"foreignField\": \"_id\",\n",
        "        \"as\": \"prod\"\n",
        "      }\n",
        "    },\n",
        "    {\"$unwind\": \"$prod\"},\n",
        "    {\"$project\": {\n",
        "        \"_id\": 1,\n",
        "        \"qtd_vendidos\": 1,\n",
        "        \"prod.nome\": 1\n",
        "    }}\n",
        "])\n",
        "\n",
        "for tp in top_vendidos:\n",
        "    print(f\"Produto: {tp['prod']['nome']} | QTD_Vendidos: {tp['qtd_vendidos']}\")"
      ],
      "metadata": {
        "colab": {
          "base_uri": "https://localhost:8080/"
        },
        "id": "R2gF1LVC27NB",
        "outputId": "385b1147-662e-4012-f0d2-0c71c2dd5a1d"
      },
      "execution_count": null,
      "outputs": [
        {
          "output_type": "stream",
          "name": "stdout",
          "text": [
            "Produto: Caneta Esferográfica | QTD_Vendidos: 8\n",
            "Produto: Monitor 24\" | QTD_Vendidos: 3\n",
            "Produto: Notebook | QTD_Vendidos: 2\n",
            "Produto: Teclado Mecânico | QTD_Vendidos: 2\n",
            "Produto: Caderno Universitário | QTD_Vendidos: 2\n"
          ]
        }
      ]
    }
  ]
}